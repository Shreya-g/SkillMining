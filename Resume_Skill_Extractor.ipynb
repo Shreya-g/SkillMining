{
 "cells": [
  {
   "cell_type": "markdown",
   "metadata": {},
   "source": [
    "<h1>Skill Extraction from documents</h1>\n",
    "<h2> The code below identifies possible skills in the documents: </h2>"
   ]
  },
  {
   "cell_type": "markdown",
   "metadata": {},
   "source": [
    "Importing libraries"
   ]
  },
  {
   "cell_type": "code",
   "execution_count": 1,
   "metadata": {
    "collapsed": true
   },
   "outputs": [],
   "source": [
    "import glob\n",
    "import win32com.client\n",
    "import unicodedata\n",
    "import string\n",
    "import nltk\n",
    "from collections import Counter\n",
    "from nltk.collocations import BigramCollocationFinder\n",
    "from nltk.metrics import BigramAssocMeasures\n",
    "from nltk.corpus import stopwords"
   ]
  },
  {
   "cell_type": "markdown",
   "metadata": {},
   "source": [
    "Reading Sample Resumes"
   ]
  },
  {
   "cell_type": "code",
   "execution_count": 2,
   "metadata": {
    "collapsed": true
   },
   "outputs": [],
   "source": [
    "CV_location, i , y ={} , 0 , u\"\"\n",
    "\n",
    "for files in glob.glob(\"D:\\\\Machine Learning\\\\Resumes\\\\*.doc*\") :\n",
    "    CV_location[i]=files\n",
    "    i=i+1\n",
    "    \n",
    "for filename in CV_location.values():\n",
    "    app = win32com.client.Dispatch('Word.Application')\n",
    "    doc = app.Documents.Open(filename)\n",
    "    x=doc.Content.Text\n",
    "    y=y+x\n",
    "app.Quit()"
   ]
  },
  {
   "cell_type": "markdown",
   "metadata": {},
   "source": [
    "Removing non-ascii characters and converting unicode to text "
   ]
  },
  {
   "cell_type": "code",
   "execution_count": 3,
   "metadata": {
    "collapsed": false
   },
   "outputs": [],
   "source": [
    "def strip_non_ascii(string):\n",
    "    ''' Returns the string without non ASCII characters'''\n",
    "    stripped = (c for c in string if 0 < ord(c) < 127)\n",
    "    return ''.join(stripped)\n",
    "\n",
    "document=unicodedata.normalize('NFKD', y).encode('ascii','ignore')\n",
    "text=strip_non_ascii(document)"
   ]
  },
  {
   "cell_type": "markdown",
   "metadata": {},
   "source": [
    "Identifying parts of speech of all words and keeping only the nouns "
   ]
  },
  {
   "cell_type": "code",
   "execution_count": 4,
   "metadata": {
    "collapsed": true
   },
   "outputs": [],
   "source": [
    "tagged = nltk.pos_tag(nltk.word_tokenize(text))\n",
    "phrases, phrase = [], \"\"\n",
    "for (word, tag) in tagged:\n",
    "    if tag[:3] == 'NNP':\n",
    "        if phrase == \"\": phrase = word\n",
    "    elif phrase != \"\":\n",
    "        phrases.append(phrase.lower())\n",
    "        phrase = \"\""
   ]
  },
  {
   "cell_type": "markdown",
   "metadata": {},
   "source": [
    "Counting and Sorting the skill in descending order of their appearence"
   ]
  },
  {
   "cell_type": "code",
   "execution_count": 5,
   "metadata": {
    "collapsed": true
   },
   "outputs": [],
   "source": [
    "skills = Counter(phrases)\n",
    "#sorting dictionary by values\n",
    "Sorted_skills= sorted(skills.items(), key=lambda x: (-x[1], x[0]))"
   ]
  },
  {
   "cell_type": "markdown",
   "metadata": {},
   "source": [
    "Removing dictionary words and words which occurred only once in the document"
   ]
  },
  {
   "cell_type": "code",
   "execution_count": 6,
   "metadata": {
    "collapsed": false
   },
   "outputs": [],
   "source": [
    "#Check if the word in in dictionary then remove\n",
    "with open(\"D:\\Machine Learning\\English dictionary\\English_Dictionary.txt\") as word_file:\n",
    "    english_words = set(word.strip().lower() for word in word_file)\n",
    "\n",
    "def is_english_word(word):\n",
    "    return word.lower() in english_words\n",
    "    \n",
    "HighFreq =[]\n",
    "TechWordFerq=[]\n",
    "#Names of Place, Comany, Individual,Months needs to be removed\n",
    "for item in Sorted_skills:\n",
    "    if [s for s in Sorted_skills if is_english_word(item[0]) == False and item[1]>1]:\n",
    "        HighFreq.append(item[0])\n",
    "        TechWordFerq.append(item)"
   ]
  },
  {
   "cell_type": "markdown",
   "metadata": {},
   "source": [
    "Printing top 50 words idetified as skills"
   ]
  },
  {
   "cell_type": "code",
   "execution_count": 7,
   "metadata": {
    "collapsed": false
   },
   "outputs": [
    {
     "data": {
      "text/html": [
       "<div style=\"max-height:1000px;max-width:1500px;overflow:auto;\">\n",
       "<table border=\"1\" class=\"dataframe\">\n",
       "  <thead>\n",
       "    <tr style=\"text-align: right;\">\n",
       "      <th></th>\n",
       "      <th>Skill</th>\n",
       "      <th>Frequency</th>\n",
       "    </tr>\n",
       "  </thead>\n",
       "  <tbody>\n",
       "    <tr>\n",
       "      <th>0 </th>\n",
       "      <td>         sql</td>\n",
       "      <td> 66</td>\n",
       "    </tr>\n",
       "    <tr>\n",
       "      <th>1 </th>\n",
       "      <td> informatica</td>\n",
       "      <td> 50</td>\n",
       "    </tr>\n",
       "    <tr>\n",
       "      <th>2 </th>\n",
       "      <td>         etl</td>\n",
       "      <td> 39</td>\n",
       "    </tr>\n",
       "    <tr>\n",
       "      <th>3 </th>\n",
       "      <td>       linux</td>\n",
       "      <td> 39</td>\n",
       "    </tr>\n",
       "    <tr>\n",
       "      <th>4 </th>\n",
       "      <td>        java</td>\n",
       "      <td> 29</td>\n",
       "    </tr>\n",
       "    <tr>\n",
       "      <th>5 </th>\n",
       "      <td>    database</td>\n",
       "      <td> 25</td>\n",
       "    </tr>\n",
       "    <tr>\n",
       "      <th>6 </th>\n",
       "      <td>           c</td>\n",
       "      <td> 22</td>\n",
       "    </tr>\n",
       "    <tr>\n",
       "      <th>7 </th>\n",
       "      <td>      cognos</td>\n",
       "      <td> 21</td>\n",
       "    </tr>\n",
       "    <tr>\n",
       "      <th>8 </th>\n",
       "      <td>         alv</td>\n",
       "      <td> 18</td>\n",
       "    </tr>\n",
       "    <tr>\n",
       "      <th>9 </th>\n",
       "      <td>        dhcp</td>\n",
       "      <td> 18</td>\n",
       "    </tr>\n",
       "    <tr>\n",
       "      <th>10</th>\n",
       "      <td>       aegon</td>\n",
       "      <td> 16</td>\n",
       "    </tr>\n",
       "    <tr>\n",
       "      <th>11</th>\n",
       "      <td>         bdc</td>\n",
       "      <td> 15</td>\n",
       "    </tr>\n",
       "    <tr>\n",
       "      <th>12</th>\n",
       "      <td>   datastage</td>\n",
       "      <td> 15</td>\n",
       "    </tr>\n",
       "    <tr>\n",
       "      <th>13</th>\n",
       "      <td>         dns</td>\n",
       "      <td> 15</td>\n",
       "    </tr>\n",
       "    <tr>\n",
       "      <th>14</th>\n",
       "      <td>          r2</td>\n",
       "      <td> 15</td>\n",
       "    </tr>\n",
       "    <tr>\n",
       "      <th>15</th>\n",
       "      <td>      vmware</td>\n",
       "      <td> 15</td>\n",
       "    </tr>\n",
       "    <tr>\n",
       "      <th>16</th>\n",
       "      <td>       cisco</td>\n",
       "      <td> 14</td>\n",
       "    </tr>\n",
       "    <tr>\n",
       "      <th>17</th>\n",
       "      <td>         jan</td>\n",
       "      <td> 14</td>\n",
       "    </tr>\n",
       "    <tr>\n",
       "      <th>18</th>\n",
       "      <td>         lan</td>\n",
       "      <td> 14</td>\n",
       "    </tr>\n",
       "    <tr>\n",
       "      <th>19</th>\n",
       "      <td>   microsoft</td>\n",
       "      <td> 14</td>\n",
       "    </tr>\n",
       "  </tbody>\n",
       "</table>\n",
       "</div>"
      ],
      "text/plain": [
       "          Skill  Frequency\n",
       "0           sql         66\n",
       "1   informatica         50\n",
       "2           etl         39\n",
       "3         linux         39\n",
       "4          java         29\n",
       "5      database         25\n",
       "6             c         22\n",
       "7        cognos         21\n",
       "8           alv         18\n",
       "9          dhcp         18\n",
       "10        aegon         16\n",
       "11          bdc         15\n",
       "12    datastage         15\n",
       "13          dns         15\n",
       "14           r2         15\n",
       "15       vmware         15\n",
       "16        cisco         14\n",
       "17          jan         14\n",
       "18          lan         14\n",
       "19    microsoft         14"
      ]
     },
     "execution_count": 7,
     "metadata": {},
     "output_type": "execute_result"
    }
   ],
   "source": [
    "import pandas as pd\n",
    "headers=['Skill', 'Frequency']\n",
    "df = pd.DataFrame(TechWordFerq, columns=headers)\n",
    "df.head(20)[df.columns[0:2]]"
   ]
  },
  {
   "cell_type": "markdown",
   "metadata": {},
   "source": [
    "Plotting top 15 identified skills"
   ]
  },
  {
   "cell_type": "code",
   "execution_count": 8,
   "metadata": {
    "collapsed": false
   },
   "outputs": [
    {
     "data": {
      "image/png": "[encoded data removed]",
      "text/plain": [
       "<matplotlib.figure.Figure at 0x1f868278>"
      ]
     },
     "metadata": {},
     "output_type": "display_data"
    }
   ],
   "source": [
    "%matplotlib inline\n",
    "import matplotlib.pyplot as plt; plt.rcdefaults()\n",
    "import numpy as np\n",
    "\n",
    "skill_name=[]\n",
    "skill_count=[]\n",
    "for point in TechWordFerq[:15]:\n",
    "   skill_name.append(point[0])\n",
    "   skill_count.append(point[1])\n",
    "\n",
    "y_pos = np.arange(len(skill_name))\n",
    "\n",
    "plt.barh(y_pos, skill_count, align='center', alpha=0.4)\n",
    "plt.yticks(y_pos, skill_name)\n",
    "plt.xlabel('Skill Count')\n",
    "plt.title('Top skills in Resume')\n",
    "plt.show()"
   ]
  },
  {
   "cell_type": "markdown",
   "metadata": {},
   "source": [
    "Words that most commonly occur with the identified skills"
   ]
  },
  {
   "cell_type": "code",
   "execution_count": 9,
   "metadata": {
    "collapsed": false
   },
   "outputs": [],
   "source": [
    "words = [w.lower().lstrip('\\x07').rstrip('?:!.,;') for w in text.split()]\n",
    "bcf = BigramCollocationFinder.from_words(words)\n",
    "stopset = set(stopwords.words('english'))\n",
    "filter_stops = lambda w: len(w) < 2 or w in stopset\n",
    "bcf.apply_word_filter(filter_stops)\n",
    "collocation=bcf.nbest(BigramAssocMeasures.likelihood_ratio, 200) \n",
    "\n",
    "                   \n",
    "def compare(s1, s2):\n",
    "    remove = string.punctuation + string.whitespace\n",
    "    return s1.translate(None, remove) == s2.translate(None, remove)\n",
    "\n",
    "\n",
    "Skill_collocation=[]\n",
    "for z in HighFreq:\n",
    "    for tup in collocation:\n",
    "        if compare(tup[0],z.lower()) or compare(tup[1],z.lower()) :\n",
    "            Skill_collocation.append(tup)\n",
    "#Will update the output to give frequency count of the collocation as well"
   ]
  },
  {
   "cell_type": "code",
   "execution_count": 10,
   "metadata": {
    "collapsed": false
   },
   "outputs": [
    {
     "data": {
      "text/html": [
       "<div style=\"max-height:1000px;max-width:1500px;overflow:auto;\">\n",
       "<table border=\"1\" class=\"dataframe\">\n",
       "  <thead>\n",
       "    <tr style=\"text-align: right;\">\n",
       "      <th></th>\n",
       "      <th>Word1</th>\n",
       "      <th>Word2</th>\n",
       "    </tr>\n",
       "  </thead>\n",
       "  <tbody>\n",
       "    <tr>\n",
       "      <th>0</th>\n",
       "      <td>         sql</td>\n",
       "      <td>      server</td>\n",
       "    </tr>\n",
       "    <tr>\n",
       "      <th>1</th>\n",
       "      <td> informatica</td>\n",
       "      <td>       power</td>\n",
       "    </tr>\n",
       "    <tr>\n",
       "      <th>2</th>\n",
       "      <td>       using</td>\n",
       "      <td> informatica</td>\n",
       "    </tr>\n",
       "    <tr>\n",
       "      <th>3</th>\n",
       "      <td>         alv</td>\n",
       "      <td>      report</td>\n",
       "    </tr>\n",
       "    <tr>\n",
       "      <th>4</th>\n",
       "      <td>       aegon</td>\n",
       "      <td> netherlands</td>\n",
       "    </tr>\n",
       "    <tr>\n",
       "      <th>5</th>\n",
       "      <td>   datastage</td>\n",
       "      <td>         8.5</td>\n",
       "    </tr>\n",
       "    <tr>\n",
       "      <th>6</th>\n",
       "      <td>       cisco</td>\n",
       "      <td>     routers</td>\n",
       "    </tr>\n",
       "    <tr>\n",
       "      <th>7</th>\n",
       "      <td>     windows</td>\n",
       "      <td>          xp</td>\n",
       "    </tr>\n",
       "    <tr>\n",
       "      <th>8</th>\n",
       "      <td>      pl/sql</td>\n",
       "      <td>   developer</td>\n",
       "    </tr>\n",
       "    <tr>\n",
       "      <th>9</th>\n",
       "      <td>        tata</td>\n",
       "      <td> consultancy</td>\n",
       "    </tr>\n",
       "  </tbody>\n",
       "</table>\n",
       "</div>"
      ],
      "text/plain": [
       "         Word1        Word2\n",
       "0          sql       server\n",
       "1  informatica        power\n",
       "2        using  informatica\n",
       "3          alv       report\n",
       "4        aegon  netherlands\n",
       "5    datastage          8.5\n",
       "6        cisco      routers\n",
       "7      windows           xp\n",
       "8       pl/sql    developer\n",
       "9         tata  consultancy"
      ]
     },
     "execution_count": 10,
     "metadata": {},
     "output_type": "execute_result"
    }
   ],
   "source": [
    "coll_header=['Word1', 'Word2']\n",
    "dff = pd.DataFrame(Skill_collocation, columns=coll_header)\n",
    "dff.head(10)[dff.columns[0:2]]"
   ]
  }
 ],
 "metadata": {
  "kernelspec": {
   "display_name": "Python 2",
   "language": "python",
   "name": "python2"
  },
  "language_info": {
   "codemirror_mode": {
    "name": "ipython",
    "version": 2
   },
   "file_extension": ".py",
   "mimetype": "text/x-python",
   "name": "python",
   "nbconvert_exporter": "python",
   "pygments_lexer": "ipython2",
   "version": "2.7.9"
  }
 },
 "nbformat": 4,
 "nbformat_minor": 0
}
