{
 "cells": [
  {
   "cell_type": "markdown",
   "metadata": {},
   "source": [
    "<h1>Code to extract tech terms from Webopedia</h1>"
   ]
  },
  {
   "cell_type": "code",
   "execution_count": null,
   "metadata": {
    "collapsed": true
   },
   "outputs": [],
   "source": [
    "from bs4 import BeautifulSoup\n",
    "import requests\n",
    "\n",
    "topcategoryList =[]\n",
    "for alphabet in map(chr, range(65, 91)):\n",
    "    url = \"http://www.webopedia.com/TERM/\"+alphabet\n",
    "    r  = requests.get(url)\n",
    "    soup = BeautifulSoup(r.content)\n",
    "    \n",
    "    topcategory=soup.findAll(\"ul\",{\"class\":\"listing-column\"})\n",
    "    \n",
    "    for topcat in topcategory:\n",
    "        print topcat.text\n",
    "        a=topcat.text\n",
    "        for abc in a.split(u\"\\n\"):\n",
    "            if abc <>\"\":\n",
    "                topcategoryList.append(abc)"
   ]
  }
 ],
 "metadata": {
  "kernelspec": {
   "display_name": "Python 2",
   "language": "python",
   "name": "python2"
  },
  "language_info": {
   "codemirror_mode": {
    "name": "ipython",
    "version": 2
   },
   "file_extension": ".py",
   "mimetype": "text/x-python",
   "name": "python",
   "nbconvert_exporter": "python",
   "pygments_lexer": "ipython2",
   "version": "2.7.9"
  }
 },
 "nbformat": 4,
 "nbformat_minor": 0
}
