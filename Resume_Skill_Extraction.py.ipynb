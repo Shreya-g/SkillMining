{
 "cells": [
  {
   "cell_type": "markdown",
   "metadata": {},
   "source": [
    "<h1>Skill Extraction from documents</h1>\n",
    "<h2> The code below identifies possible skills in the documents: </h2>"
   ]
  },
  {
   "cell_type": "markdown",
   "metadata": {},
   "source": [
    "Importing libraries"
   ]
  },
  {
   "cell_type": "code",
   "execution_count": 29,
   "metadata": {
    "collapsed": true
   },
   "outputs": [],
   "source": [
    "import glob\n",
    "import win32com.client\n",
    "import unicodedata\n",
    "import string\n",
    "import nltk\n",
    "from collections import Counter\n",
    "from nltk.collocations import BigramCollocationFinder\n",
    "from nltk.metrics import BigramAssocMeasures\n",
    "from nltk.corpus import stopwords"
   ]
  },
  {
   "cell_type": "markdown",
   "metadata": {},
   "source": [
    "Reading Sample Resumes"
   ]
  },
  {
   "cell_type": "code",
   "execution_count": 2,
   "metadata": {
    "collapsed": true
   },
   "outputs": [],
   "source": [
    "CV_location, i , y ={} , 0 , u\"\"\n",
    "\n",
    "for files in glob.glob(\"D:\\\\Machine Learning\\\\Resumes\\\\*.doc*\") :\n",
    "    CV_location[i]=files\n",
    "    i=i+1\n",
    "    \n",
    "for filename in CV_location.values():\n",
    "    app = win32com.client.Dispatch('Word.Application')\n",
    "    doc = app.Documents.Open(filename)\n",
    "    x=doc.Content.Text\n",
    "    y=y+x\n",
    "app.Quit()"
   ]
  },
  {
   "cell_type": "markdown",
   "metadata": {},
   "source": [
    "Removing non-ascii characters and converting unicode to text "
   ]
  },
  {
   "cell_type": "code",
   "execution_count": 19,
   "metadata": {
    "collapsed": false
   },
   "outputs": [],
   "source": [
    "def strip_non_ascii(string):\n",
    "    ''' Returns the string without non ASCII characters'''\n",
    "    stripped = (c for c in string if 0 < ord(c) < 127)\n",
    "    return ''.join(stripped)\n",
    "\n",
    "document=unicodedata.normalize('NFKD', y).encode('ascii','ignore')\n",
    "text=strip_non_ascii(document)"
   ]
  },
  {
   "cell_type": "markdown",
   "metadata": {},
   "source": [
    "Identifying parts of speech of all words and keeping only the nouns "
   ]
  },
  {
   "cell_type": "code",
   "execution_count": null,
   "metadata": {
    "collapsed": true
   },
   "outputs": [],
   "source": [
    "tagged = nltk.pos_tag(nltk.word_tokenize(text))\n",
    "phrases, phrase = [], \"\"\n",
    "for (word, tag) in tagged:\n",
    "    if tag[:3] == 'NNP':\n",
    "        if phrase == \"\": phrase = word\n",
    "    elif phrase != \"\":\n",
    "        phrases.append(phrase.lower())\n",
    "        phrase = \"\""
   ]
  },
  {
   "cell_type": "markdown",
   "metadata": {},
   "source": [
    "Counting and Sorting the skill in descending order of their appearence"
   ]
  },
  {
   "cell_type": "code",
   "execution_count": null,
   "metadata": {
    "collapsed": true
   },
   "outputs": [],
   "source": [
    "skills = Counter(phrases)\n",
    "#sorting dictionary by values\n",
    "Sorted_skills= sorted(skills.items(), key=lambda x: (-x[1], x[0]))"
   ]
  },
  {
   "cell_type": "markdown",
   "metadata": {},
   "source": [
    "Removing dictionary words and words which occurred only once in the document"
   ]
  },
  {
   "cell_type": "code",
   "execution_count": 37,
   "metadata": {
    "collapsed": false
   },
   "outputs": [],
   "source": [
    "#Check if the word in in dictionary then remove\n",
    "with open(\"D:\\Machine Learning\\English dictionary\\English_Dictionary.txt\") as word_file:\n",
    "    english_words = set(word.strip().lower() for word in word_file)\n",
    "\n",
    "def is_english_word(word):\n",
    "    return word.lower() in english_words\n",
    "    \n",
    "HighFreq =[]\n",
    "TechWordFerq=[]\n",
    "for item in Sorted_skills:\n",
    "    if [s for s in Sorted_skills if is_english_word(item[0]) == False and item[1]>1]:\n",
    "        HighFreq.append(item[0])\n",
    "        TechWordFerq.append(item)"
   ]
  },
  {
   "cell_type": "markdown",
   "metadata": {},
   "source": [
    "Printing top 50 words idetified as skills"
   ]
  },
  {
   "cell_type": "code",
   "execution_count": 38,
   "metadata": {
    "collapsed": false
   },
   "outputs": [
    {
     "name": "stdout",
     "output_type": "stream",
     "text": [
      "[('sql', 66), ('informatica', 50), ('etl', 39), ('linux', 39), ('java', 29), ('database', 25), ('c', 22), ('cognos', 21), ('alv', 18), ('dhcp', 18), ('aegon', 16), ('bdc', 15), ('datastage', 15), ('dns', 15), ('r2', 15), ('vmware', 15), ('cisco', 14), ('jan', 14), ('lan', 14), ('microsoft', 14), ('javascript', 13), ('sla', 13), ('hadoop', 12), ('ip', 12), ('kmd', 12), ('mysql', 12), (')', 11), ('oct', 11), ('xp', 11), ('cgpa', 10), ('edw', 10), ('feb', 10), ('html', 10), ('nov', 10), ('vlan', 10), ('(', 9), ('badi', 9), ('bapi', 9), ('email', 9), ('ffi', 9), ('pl/sql', 9), ('symantec', 9), ('t', 9), ('tata', 9), ('antivirus', 8), ('c++', 8), ('css3', 8), ('html5', 8), ('j2ee', 8), ('jetking', 8), ('laptops', 8), ('mando', 8), ('mcafee', 8), ('vpn', 8), ('[', 7), ('aggregator', 7), ('andhra', 7), ('asm', 7), ('bi', 7), ('ccna', 7), ('erp', 7), ('fsd', 7), ('hcl', 7), ('hive', 7), ('itil', 7), ('jquery', 7), ('m', 7), ('ospf', 7), ('qa', 7), ('abap', 6), ('bgp', 6), ('bmc', 6), ('db2', 6), ('firewall', 6), ('ftp', 6), ('h', 6), ('jntu', 6), ('july2013', 6), ('nfs', 6), ('online', 6), ('p.g', 6), ('vcenter', 6), ('vms', 6), ('workflow', 6), ('crm', 5), ('gsm', 5), ('http', 5), ('nis', 5), ('nop', 5), ('onsite', 5), ('pega', 5), ('perl', 5), ('process', 5), ('rhel', 5), ('slas', 5), ('st.', 5), ('svn', 5), ('teradata', 5), ('uat', 5), ('uk', 5), ('updation', 5), ('vsat', 5), ('webi', 5), ('wip', 5), ('akos', 4), ('aug', 4), ('avr', 4), ('b', 4), ('backend', 4), ('bo', 4), ('bom', 4), ('cbse', 4), ('cigna', 4), ('cmc', 4), ('cmmi', 4), ('dwhm', 4), ('eigrp', 4), ('esxi', 4), ('etc.', 4), ('fx', 4), ('hdfs', 4), ('iis', 4), ('ios', 4), ('itnm', 4), ('laptop', 4), ('mca', 4), ('mm', 4), ('nat', 4), ('niit', 4), ('patagonia', 4), ('pos', 4), ('programmer', 4), ('ps', 4), ('salesforce', 4), ('sep', 4), ('shell', 4), ('shx', 4), ('siebel', 4), ('sonicwall', 4), ('sqoop', 4), ('ssl', 4), ('tamilnadu', 4), ('tcs', 4), ('tivoli', 4), ('trendmicro', 4), ('uart', 4), ('ubuntu', 4), ('utp', 4), ('vsphere', 4), ('vss', 4), ('walmart', 4), ('winscp', 4), ('wipro', 4), ('woolworths', 4), ('zte', 4), ('zxun', 4), ('\\x07ffi', 3), ('accenture', 3), ('ale/idocs', 3), ('algofusion', 3), ('anz', 3), ('autocad', 3), ('banglore', 3), ('bics', 3), ('bsc', 3), ('bsnl', 3), ('carrefour', 3), ('centos', 3), ('code', 3), ('crss', 3), ('css', 3), ('cummins', 3), ('cv', 3), ('dbcc', 3), ('ddic', 3), ('desktops', 3), ('dmq', 3), ('drs', 3), ('ejb', 3), ('equifax', 3), ('fi01', 3), ('fms', 3), ('glaxosmithkline', 3), ('gps', 3), ('hlr', 3), ('hsrp', 3), ('idoc', 3), ('igrp', 3), ('inv', 3), ('isdn', 3), ('itm', 3), ('joshi', 3), ('kpi', 3), ('ldap', 3), ('mauritz', 3), ('me23n', 3), ('mis', 3), ('mpec', 3), ('mvc', 3), ('nas', 3), ('netvault', 3), ('nt', 3), ('om', 3), ('oracle9i', 3), ('oss', 3), ('php', 3), ('prpc', 3), ('qc', 3), ('qlikview', 3), ('saurabh', 3), ('scme', 3), ('servlets', 3), ('smartforms', 3), ('solaris', 3), ('somerfield', 3), ('tbsm', 3), ('tcp/ip', 3), ('tcr', 3), ('ui', 3), ('vmotion', 3), ('vrrp', 3), ('windows2003', 3), ('windows7', 3), ('wsus', 3), ('\\x07deutsche', 2), ('\\x07karnataka', 2), ('adc', 2), ('airtel', 2), ('aix', 2), ('ajax', 2), ('ajeetkumar3g', 2), ('ambika', 2), ('asr', 2), ('bharat', 2), ('biranchi', 2), ('borivali', 2), ('boxi', 2), ('brk', 2), ('carefirst', 2), ('cba', 2), ('cbs', 2), ('cctv', 2), ('celeroo', 2), ('citrix', 2), ('comsol', 2), ('coss', 2), ('cse', 2), ('ctdms', 2), ('databases', 2), ('dca', 2), ('debian', 2), ('dlp', 2), ('dsm', 2), ('ehr', 2), ('eipp', 2), ('emr', 2), ('epabx', 2), ('erwin', 2), ('esel', 2), ('failover', 2), ('fazal', 2), ('fcdb', 2), ('feb-2015', 2), ('flexinformatics', 2), ('fortigate', 2), ('fr', 2), ('freelancer', 2), ('gpo', 2), ('gpp', 2), ('gsk', 2), ('gujarat', 2), ('hbase', 2), ('healthcare', 2), ('hexaware', 2), ('himachal', 2), ('hipaa', 2), ('hiveql', 2), ('hpov', 2), ('hyperv', 2), ('icbs', 2), ('ide', 2), ('ighs', 2), ('ing', 2), ('iso', 2), ('j', 2), ('j.n.t.u', 2), ('jda', 2), ('jira', 2), ('jul', 2), ('kotak', 2), ('kpis', 2), ('l', 2), ('l2', 2), ('l3', 2), ('lalita', 2), ('language', 2), ('laxmi', 2), ('lcd', 2), ('linq', 2), ('lis', 2), ('lvm', 2), ('lync', 2), ('mallikarjuna', 2), ('mapplet', 2), ('mariyahu', 2), ('maruti', 2), ('matlab', 2), ('mct', 2), ('meerpet', 2), ('mes', 2), ('microcontroller', 2), ('mohd', 2), ('mpls', 2), ('mr.', 2), ('msc', 2), ('netapp', 2), ('nic', 2), ('nov2009', 2), ('npid', 2), ('obiee', 2), ('ofsll', 2), ('olap', 2), ('omcs', 2), ('parentree', 2), ('peplink', 2), ('pocs', 2), ('powerpoint', 2), ('programming', 2), ('ptc', 2), ('ralla', 2), ('rca', 2), ('reddy', 2), ('renuka', 2), ('rs232', 2), ('rtos', 2), ('sablime', 2), ('santosh', 2), ('sccd', 2), ('scm', 2), ('scom', 2), ('scvmm', 2), ('sdlc', 2), ('sendmail', 2), ('sep06', 2), ('server2013', 2), ('sify', 2), ('snmp', 2), ('sp2', 2), ('spi', 2), ('sqa', 2), ('sr.', 2), ('sreeven', 2), ('ss7', 2), ('ssc', 2), ('sslc', 2), ('stp', 2), ('str', 2), ('sudhakar', 2), ('suresh', 2), ('tb', 2), ('teamcity', 2), ('techmahindra', 2), ('trunking', 2), ('tsiem/tsom', 2), ('tt', 2), ('u.p', 2), ('udp', 2), ('uspp', 2), ('uttar', 2), ('vaata', 2), ('vb', 2), ('venkata', 2), ('venkatasamudiram', 2), ('vlans', 2), ('vm', 2), ('vnc', 2), ('voip', 2), ('walgreens', 2), ('webdriver', 2), ('websphere', 2), ('wifi', 2), ('workflows', 2), ('x', 2), ('xk01', 2), ('xml', 2), ('yum', 2)]\n"
     ]
    }
   ],
   "source": [
    "print TechWordFerq"
   ]
  },
  {
   "cell_type": "markdown",
   "metadata": {},
   "source": [
    "Plotting top 15 identified skills"
   ]
  },
  {
   "cell_type": "code",
   "execution_count": 33,
   "metadata": {
    "collapsed": false
   },
   "outputs": [
    {
     "data": {
      "image/png": "[encoded data removed]",
      "text/plain": [
       "<matplotlib.figure.Figure at 0x1f1f1eb8>"
      ]
     },
     "metadata": {},
     "output_type": "display_data"
    }
   ],
   "source": [
    "%matplotlib inline\n",
    "import matplotlib.pyplot as plt; plt.rcdefaults()\n",
    "import numpy as np\n",
    "import matplotlib.pyplot as plt\n",
    "\n",
    "s= []; skill_count=[]\n",
    "for point in TechWordFerq[:15]:\n",
    "   s.append(point[0])\n",
    "   skill_count.append(point[1])\n",
    "\n",
    "# Example data\n",
    "y_pos = np.arange(len(s))\n",
    "error = np.random.rand(len(s))\n",
    "\n",
    "plt.barh(y_pos, skill_count, xerr=error, align='center', alpha=0.4)\n",
    "plt.yticks(y_pos, s)\n",
    "plt.xlabel('Skill Count')\n",
    "plt.title('Top skills in Resume')\n",
    "plt.show()"
   ]
  },
  {
   "cell_type": "markdown",
   "metadata": {},
   "source": [
    "Words that most commonly occur with the identified skills"
   ]
  },
  {
   "cell_type": "code",
   "execution_count": null,
   "metadata": {
    "collapsed": true
   },
   "outputs": [],
   "source": [
    "words = [w.lower() for w in text.split()]\n",
    "bcf = BigramCollocationFinder.from_words(words)\n",
    "stopset = set(stopwords.words('english'))\n",
    "filter_stops = lambda w: len(w) < 2 or w in stopset\n",
    "bcf.apply_word_filter(filter_stops)\n",
    "collocation=bcf.nbest(BigramAssocMeasures.likelihood_ratio, 200) \n",
    "\n",
    "                   \n",
    "def compare(s1, s2):\n",
    "    remove = string.punctuation + string.whitespace\n",
    "    return s1.translate(None, remove) == s2.translate(None, remove)\n",
    "\n",
    "\n",
    "Skill_collocation=[]\n",
    "for z in HighFreq:\n",
    "    for tup in collocation:\n",
    "        if compare(tup[0],z.lower()) or compare(tup[1],z.lower()) :\n",
    "            Skill_collocation.append(tup)"
   ]
  },
  {
   "cell_type": "code",
   "execution_count": 8,
   "metadata": {
    "collapsed": false
   },
   "outputs": [
    {
     "name": "stdout",
     "output_type": "stream",
     "text": [
      "[('sql', 'server'), ('data', 'warehouse'), ('data', 'warehousing'), ('informatica', 'power'), ('etl', 'developer'), ('c,', 'c++,'), ('ibm', 'cognos'), ('alv', 'report'), ('aegon', 'netherlands'), ('datastage', '8.5'), ('cisco', 'routers'), ('css3,', 'javascript.'), ('windows', 'xp,'), ('windows', 'xp'), ('ffi', 'executive'), ('tata', 'consultancy'), ('c,', 'c++,'), ('html5,', 'css3,'), ('css3,', 'javascript.'), ('html5,', 'css3,'), ('jetking', 'kanpur.'), ('mando', 'automotive'), ('fsd,', 'enhancing'), ('abap', 'technical'), ('nfs,', 'nis,'), ('nfs,', 'nis,'), ('nop', 'commerce'), ('pega', 'prpc'), ('shell', 'scripting,'), ('\\x07ffi', 'executive'), ('layouts.', 'ale/idocs'), ('id', '(crss):'), ('crss:', '\\x07nishant'), ('cv', 'evaluation'), ('\\x07nishita', 'joshi'), ('pega', 'prpc'), ('soup', 'ui,'), ('ui,', 'oracle')]\n"
     ]
    }
   ],
   "source": [
    "print Skill_collocation"
   ]
  }
 ],
 "metadata": {
  "kernelspec": {
   "display_name": "Python 2",
   "language": "python",
   "name": "python2"
  },
  "language_info": {
   "codemirror_mode": {
    "name": "ipython",
    "version": 2
   },
   "file_extension": ".py",
   "mimetype": "text/x-python",
   "name": "python",
   "nbconvert_exporter": "python",
   "pygments_lexer": "ipython2",
   "version": "2.7.9"
  }
 },
 "nbformat": 4,
 "nbformat_minor": 0
}
